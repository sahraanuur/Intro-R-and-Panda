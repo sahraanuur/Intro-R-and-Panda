{
  "cells": [
    {
      "cell_type": "markdown",
      "metadata": {
        "id": "view-in-github",
        "colab_type": "text"
      },
      "source": [
        "<a href=\"https://colab.research.google.com/github/sahraanuur/PythonandR/blob/main/ifStatementPractice.ipynb\" target=\"_parent\"><img src=\"https://colab.research.google.com/assets/colab-badge.svg\" alt=\"Open In Colab\"/></a>"
      ]
    },
    {
      "cell_type": "code",
      "execution_count": null,
      "metadata": {
        "colab": {
          "base_uri": "https://localhost:8080/"
        },
        "id": "pOqggt6sN_Xp",
        "outputId": "c75eef63-f75e-4a93-d9db-1287a71fcc74"
      },
      "outputs": [
        {
          "name": "stdout",
          "output_type": "stream",
          "text": [
            "great job\n"
          ]
        }
      ],
      "source": [
        "annualSales = 600000\n",
        "if annualSales >= 500000:\n",
        "    print(\"great job\")"
      ]
    },
    {
      "cell_type": "code",
      "execution_count": null,
      "metadata": {
        "id": "o81dAWHamRRq"
      },
      "outputs": [],
      "source": [
        "annualSales = 300000\n",
        "if annualSales >= 500000:\n",
        "    print(\"Gold Customer\")\n",
        "print(\"Thank you for your business\")"
      ]
    },
    {
      "cell_type": "code",
      "execution_count": null,
      "metadata": {
        "colab": {
          "base_uri": "https://localhost:8080/"
        },
        "id": "uQ4b85Njm_Sq",
        "outputId": "0c1ff735-f3e3-4fe2-ee20-2463dd704c04"
      },
      "outputs": [
        {
          "name": "stdout",
          "output_type": "stream",
          "text": [
            "silver Customer\n",
            "Thank you for your business\n"
          ]
        }
      ],
      "source": [
        "annualSales = 300000\n",
        "if annualSales >= 500000:\n",
        "    print(\"Gold Customer\")\n",
        "elif annualSales >= 300000:\n",
        "    print(\"silver Customer\")\n",
        "elif annualSales >= 100000:\n",
        "    print(\"Bronze Customer\")\n",
        "print(\"Thank you for your business\")"
      ]
    },
    {
      "cell_type": "code",
      "execution_count": null,
      "metadata": {
        "colab": {
          "base_uri": "https://localhost:8080/"
        },
        "id": "jiE7pBFVqs2u",
        "outputId": "ff32ba95-4921-4a28-fe80-7482fa57d759"
      },
      "outputs": [
        {
          "name": "stdout",
          "output_type": "stream",
          "text": [
            "silver Customer\n"
          ]
        }
      ],
      "source": [
        "annualSales = 300000\n",
        "if annualSales >= 500000:\n",
        "    print(\"Gold Customer\")\n",
        "elif annualSales >= 300000:\n",
        "    print(\"silver Customer\")\n",
        "elif annualSales >= 100000:\n",
        "    print(\"Bronze Customer\")\n",
        "else:\n",
        "    print(\"Up & Coming Customers\")\n",
        "    print(\"Thank you for your business\")"
      ]
    },
    {
      "cell_type": "code",
      "execution_count": null,
      "metadata": {
        "colab": {
          "base_uri": "https://localhost:8080/"
        },
        "id": "kw0A5RoFuCe3",
        "outputId": "4fb2a721-5d46-4d61-e419-8192293e8889"
      },
      "outputs": [
        {
          "output_type": "stream",
          "name": "stdout",
          "text": [
            "North, East, South or West?:north\n",
            "Silver Customer\n",
            "Send a baseball bat\n",
            "Thank you for your business\n"
          ]
        }
      ],
      "source": [
        "annualSales = 300000\n",
        "region = input(\"North, East, South or West?:\")\n",
        "\n",
        "if annualSales >= 500000:\n",
        "    print(\"Gold Customer\")\n",
        "\n",
        "elif annualSales >= 300000:\n",
        "    print(\"Silver Customer\")\n",
        "\n",
        "    if region == \"North\":\n",
        "      print(\"Send a snowboard\")\n",
        "    else:\n",
        "      print(\"Send a baseball bat\")\n",
        "\n",
        "elif annualSales >= 100000:\n",
        "    print(\"Bronze Customer\")\n",
        "else:\n",
        "   print(\"Up and coming customer\")\n",
        "print(\"Thank you for your business\")\n"
      ]
    },
    {
      "cell_type": "code",
      "execution_count": 1,
      "metadata": {
        "colab": {
          "base_uri": "https://localhost:8080/"
        },
        "id": "r5yh5c2wyVE8",
        "outputId": "4299c336-3cc4-4aac-a50c-6694b5b0965c"
      },
      "outputs": [
        {
          "output_type": "stream",
          "name": "stdout",
          "text": [
            "Silver Customer\n",
            "Thank you for your business\n"
          ]
        }
      ],
      "source": [
        "annualSales = 300000\n",
        "newCustomer = False\n",
        "\n",
        "if annualSales >= 500000:\n",
        "    print(\"Gold Customer\")\n",
        "elif annualSales >= 300000:\n",
        "    print(\"Silver Customer\")\n",
        "#add compound conditional statement here\n",
        "elif annualSales >= 100000 and newCustomer:\n",
        "    print(\"Bronze Customer and First time prize winner\")\n",
        "elif annualSales >= 100000:\n",
        "    print(\"Bronze Customer\")\n",
        "print(\"Thank you for your business\")\n",
        "\n"
      ]
    }
  ],
  "metadata": {
    "colab": {
      "provenance": [],
      "authorship_tag": "ABX9TyPXrLxW1g6QB9OT8VKks1jv",
      "include_colab_link": true
    },
    "kernelspec": {
      "display_name": "Python 3",
      "name": "python3"
    },
    "language_info": {
      "name": "python"
    }
  },
  "nbformat": 4,
  "nbformat_minor": 0
}